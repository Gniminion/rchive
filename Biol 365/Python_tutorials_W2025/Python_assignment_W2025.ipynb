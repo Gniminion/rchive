{
 "cells": [
  {
   "cell_type": "markdown",
   "id": "6aab96f5-496d-4629-8061-8af00fec4079",
   "metadata": {},
   "source": [
    "# Bonus assignment:"
   ]
  },
  {
   "cell_type": "markdown",
   "id": "b52817ba-53b9-4980-b921-2f3d6229c257",
   "metadata": {},
   "source": [
    "**BIOL365 Winter 2025** \\\n",
    "**Due date: March 31, 2025 (11:59 PM)** \n",
    "\n",
    "**Total marks: /30**\n",
    "\n",
    "This notebook contains all questions for the BIOL365 bonus assignment. \n",
    "\n",
    "Answers should be typed in the indicated code and markdown blocks. You can create additional code blocks if needed. There is no need to save outputs separately, unless otherwise specified.\n",
    "\n",
    "**IMPORTANT NOTES**:\n",
    "\n",
    "- **Do not ask the TAs** for help on this assignment, they are not responsible for anything in the bonus module.\n",
    "\n",
    "- **Attempt to troubleshoot any issues yourself first**. Most error messages can be solved by a quick google search. Stackoverflow is your friend. \n",
    "\n",
    "- If that doesn't work, **check the LEARN discussion forum**. I will be posting solutions to common issues there. \n",
    "\n",
    "- If you're still stuck, email Molly or go to office hours. It helps if you can provide screenshots and describe what you've already tried. \n",
    "\n",
    "- Marks are given for **final answers** only. No part marks awarded for code that fails to run!\n",
    "\n",
    "- In the same vein, I am not specifically marking for adherence to good coding practices (e.g., formatting style). However, **I will be reviewing the code for originality**. Evidence of plagiarism will lead to a 0 on the assignment. Properly documenting your code with comments, among other things, can help you avoid this.\n",
    "\n",
    "\n",
    "Good luck!\n",
    "\n",
    "---"
   ]
  },
  {
   "cell_type": "markdown",
   "id": "15ef1649-4e1e-42c9-b424-296fb5428894",
   "metadata": {},
   "source": [
    "## Part 1: Filtering NCBI genome datasets\n",
    "\n",
    "**/7 marks**"
   ]
  },
  {
   "cell_type": "markdown",
   "id": "f4ee0145-1e82-4700-9417-e0325e527e65",
   "metadata": {},
   "source": [
    "The NCBI FTP site (https://ftp.ncbi.nlm.nih.gov/) hosts download links for all of their databases, in a hierarchical organization. \n",
    "\n",
    "Follow the link for `genome/`, then `genbank/`. Download the `assembly_summary_genbank.txt` file (right click --> 'save as') into your working directory. \\\n",
    "Do the same for `genome/refseq/` to download the `assembly_summary_refseq.txt` file.  \n",
    "\n"
   ]
  },
  {
   "cell_type": "markdown",
   "id": "0df6ff45-58c3-4dec-8078-27a7adefeab6",
   "metadata": {},
   "source": [
    "### Task 1:\n",
    "\n",
    "**A) Import both files as separate dataframes. (1 mark)** \\\n",
    "Hint: the `skiprows=` parameter can be used to ignore the header (https://pandas.pydata.org/docs/reference/api/pandas.read_table.html). \\\n",
    "You may get a warning about mixed data types, in which case you can follow the recommendation for specifying `low_memory=False`. "
   ]
  },
  {
   "cell_type": "code",
   "execution_count": null,
   "id": "f97fbf15-2eb4-4b41-926d-87c0612a4e6b",
   "metadata": {},
   "outputs": [
    {
     "name": "stdout",
     "output_type": "stream",
     "text": [
      "Requirement already satisfied: pandas in ./.venv/lib/python3.9/site-packages (2.2.3)\n",
      "Requirement already satisfied: numpy>=1.22.4 in ./.venv/lib/python3.9/site-packages (from pandas) (2.0.2)\n",
      "Requirement already satisfied: python-dateutil>=2.8.2 in ./.venv/lib/python3.9/site-packages (from pandas) (2.9.0.post0)\n",
      "Requirement already satisfied: pytz>=2020.1 in ./.venv/lib/python3.9/site-packages (from pandas) (2025.1)\n",
      "Requirement already satisfied: tzdata>=2022.7 in ./.venv/lib/python3.9/site-packages (from pandas) (2025.1)\n",
      "Requirement already satisfied: six>=1.5 in ./.venv/lib/python3.9/site-packages (from python-dateutil>=2.8.2->pandas) (1.17.0)\n",
      "Note: you may need to restart the kernel to use updated packages.\n"
     ]
    }
   ],
   "source": [
    "# %pip install pandas\n",
    "import pandas as pd\n",
    "\n",
    "df_gb = pd.read_table('assembly_summary_genbank.txt', skiprows = 1, low_memory=False)\n",
    "df_rs = pd.read_table('assembly_summary_refseq.txt', skiprows = 1, low_memory=False)"
   ]
  },
  {
   "cell_type": "markdown",
   "id": "c593e171-4f41-4336-ba4c-b7475dbe9e1c",
   "metadata": {},
   "source": [
    "\\\n",
    "Take a look at both dataframes. They should both show a list of accession numbers, each representing an assembled genome in the database. The column headers are identical, and contain info about the source of the assembly, the species (taxid and species_taxid are both unique to the organism, listed under organism_name), and various stats such as the genome size and gene counts. \n",
    "\n",
    "There are too many columns to display, so for the sake of convenience, let's filter out some of the irrelevant ones. \n",
    "\n",
    "**B) Filter the dataframes to only contain the following columns: (1 mark)**\n",
    "\n",
    "- `'#assembly_accession'`\n",
    "- `'refseq_category'`\n",
    "- `'organism_name'`\n",
    "- `'assembly_level'`\n",
    "- `'genome_rep'`\n",
    "- `'group'`\n",
    "- `'genome_size'`\n",
    "- `'genome_size_ungapped'`\n",
    "- `'gc_percent'`"
   ]
  },
  {
   "cell_type": "code",
   "execution_count": 6,
   "id": "e7d904e1-196f-464d-8719-e4cecc57f2d0",
   "metadata": {},
   "outputs": [
    {
     "name": "stdout",
     "output_type": "stream",
     "text": [
      "  #assembly_accession   refseq_category            organism_name  \\\n",
      "0     GCA_000001215.4  reference genome  Drosophila melanogaster   \n",
      "\n",
      "  assembly_level genome_rep         group  genome_size  genome_size_ungapped  \\\n",
      "0     Chromosome       Full  invertebrate    143706478             142553500   \n",
      "\n",
      "   gc_percent  \n",
      "0        42.0  \n",
      "  #assembly_accession   refseq_category            organism_name  \\\n",
      "0     GCF_000001215.4  reference genome  Drosophila melanogaster   \n",
      "\n",
      "  assembly_level genome_rep         group  genome_size  genome_size_ungapped  \\\n",
      "0     Chromosome       Full  invertebrate    143706478             142553500   \n",
      "\n",
      "   gc_percent  \n",
      "0        42.0  \n"
     ]
    }
   ],
   "source": [
    "cols = ['#assembly_accession', 'refseq_category', 'organism_name', 'assembly_level',\n",
    "        'genome_rep', 'group', 'genome_size', 'genome_size_ungapped', 'gc_percent']\n",
    "\n",
    "df_gb = df_gb[cols]\n",
    "df_rs = df_rs[cols]\n",
    "\n",
    "print(df_gb.head(1))\n",
    "print(df_rs.head(1))"
   ]
  },
  {
   "cell_type": "markdown",
   "id": "3b39fa9e-34a6-4e68-a3b9-dcbfb32df69a",
   "metadata": {},
   "source": [
    "---"
   ]
  },
  {
   "cell_type": "markdown",
   "id": "0e645ad4-8e0e-4ec2-9330-ebca30f14390",
   "metadata": {},
   "source": [
    "\n",
    "### Task 2: \n",
    "\n",
    "Recall that refseq is a curated, non-redundant version of genbank - one sequence per gene per organism. However, for the genome assembly dataset, the level of redundancy is debatable... for example, using `['organism_name'].value_counts()` on the refseq dataframe shows 37,570 genomes for E. coli. This could be due to different strains, assembly methods, etc. \n",
    "\n",
    "Regardless, I'm interested in filtering a list of *high quality genomes* with *one unique entry* per species , with the following criteria:\n",
    "\n",
    "1. Only keep entries listed as `'Full'` under `['genome_rep']` (excludes partial genomes). \n",
    "2. Only keep entries listed as `'bacteria'`, `'archaea'`, `'fungi'`, `'invertebrate'`, `'plant'`, `'vertebrate_other'`, `'vertebrate_mammalian'`, and `'protozoa'` under `['group']` (excludes viral, metagenome, and other genomes). \n",
    "3. Keep only one value per species (`['organism_name']`), prioritizing entries listed as a `reference genome` under `['refseq_category']`."
   ]
  },
  {
   "cell_type": "markdown",
   "id": "4a26d349-b7d4-4df5-b757-7c7555023dd0",
   "metadata": {},
   "source": [
    "\n",
    "**A)** **Apply the above filtering criteria to both the genbank and refseq datasets. (2 marks)**\n",
    "\n",
    "Hint: the `df.drop_duplicates()` function is useful here: https://pandas.pydata.org/docs/reference/api/pandas.DataFrame.drop_duplicates.html \\\n",
    "Note the `subset=` parameter. "
   ]
  },
  {
   "cell_type": "code",
   "execution_count": 7,
   "id": "7f003852-c14c-4c33-8afb-d5bad07cddf4",
   "metadata": {
    "scrolled": true
   },
   "outputs": [
    {
     "name": "stdout",
     "output_type": "stream",
     "text": [
      "['reference genome' 'na']\n",
      "['reference genome' 'na']\n",
      "        #assembly_accession   refseq_category                  organism_name  \\\n",
      "0           GCA_000001215.4  reference genome        Drosophila melanogaster   \n",
      "2573605     GCA_928724795.1  reference genome  Ustanciosporium gigantosporum   \n",
      "2573542     GCA_928721695.1  reference genome      Dialister succinatiphilus   \n",
      "\n",
      "          assembly_level genome_rep         group  genome_size  \\\n",
      "0             Chromosome       Full  invertebrate    143706478   \n",
      "2573605           Contig       Full         fungi     20177783   \n",
      "2573542  Complete Genome       Full      bacteria      2486895   \n",
      "\n",
      "         genome_size_ungapped  gc_percent  \n",
      "0                   142553500        42.0  \n",
      "2573605              20177783        52.0  \n",
      "2573542               2486895        51.0  \n",
      "       #assembly_accession   refseq_category            organism_name  \\\n",
      "0          GCF_000001215.4  reference genome  Drosophila melanogaster   \n",
      "303247     GCF_036323495.1  reference genome  Limnobacter thiooxidans   \n",
      "148105     GCF_009729035.1  reference genome     Stygiolobus azoricus   \n",
      "\n",
      "         assembly_level genome_rep         group  genome_size  \\\n",
      "0            Chromosome       Full  invertebrate    143706478   \n",
      "303247  Complete Genome       Full      bacteria      3536915   \n",
      "148105  Complete Genome       Full       archaea      1987069   \n",
      "\n",
      "        genome_size_ungapped  gc_percent  \n",
      "0                  142553500        42.0  \n",
      "303247               3536915        53.0  \n",
      "148105               1987069        37.5  \n",
      "\n",
      "#assembly_accession     141978\n",
      "refseq_category         141978\n",
      "organism_name           141978\n",
      "assembly_level          141978\n",
      "genome_rep              141978\n",
      "group                   141978\n",
      "genome_size             141978\n",
      "genome_size_ungapped    141978\n",
      "gc_percent              141978\n",
      "dtype: int64\n",
      "#assembly_accession     87574\n",
      "refseq_category         87574\n",
      "organism_name           87574\n",
      "assembly_level          87574\n",
      "genome_rep              87574\n",
      "group                   87574\n",
      "genome_size             87574\n",
      "genome_size_ungapped    87574\n",
      "gc_percent              87574\n",
      "dtype: int64\n"
     ]
    }
   ],
   "source": [
    "# 1.\n",
    "df_gb = df_gb[df_gb['genome_rep'] == 'Full']\n",
    "df_rs = df_rs[df_rs['genome_rep'] == 'Full']\n",
    "\n",
    "# 2.\n",
    "groups = [ 'bacteria', 'archaea', 'fungi', 'invertebrate', \n",
    "    'plant', 'vertebrate_other', 'vertebrate_mammalian', 'protozoa']\n",
    "df_gb = df_gb[df_gb['group'].isin(groups)]\n",
    "df_rs = df_rs[df_rs['group'].isin(groups)]\n",
    "\n",
    "# 3.\n",
    "print(df_gb['refseq_category'].unique())\n",
    "print(df_rs['refseq_category'].unique())\n",
    "# since refseq_category only has tag ref genome and na, sorting alphabetically in reverse order prioritises ref genome \n",
    "df_gb = df_gb.sort_values(by=['refseq_category'], ascending=False)\n",
    "df_rs = df_rs.sort_values(by=['refseq_category'], ascending=False)\n",
    "df_gb = df_gb.drop_duplicates(subset=['organism_name'], keep='first')\n",
    "df_rs = df_rs.drop_duplicates(subset=['organism_name'], keep='first')\n",
    "\n",
    "print(df_gb.head(3))\n",
    "print(df_rs.head(3))\n",
    "\n",
    "# Part B:\n",
    "print()\n",
    "print(df_gb.count())\n",
    "print(df_rs.count())"
   ]
  },
  {
   "cell_type": "markdown",
   "id": "fcba3e2e-576b-4ed1-9f37-2848a4a2b8e6",
   "metadata": {},
   "source": [
    "**B) How many genomes are in the filtered datasets? (1 mark)**"
   ]
  },
  {
   "cell_type": "markdown",
   "id": "b2a9c666-ec59-47f3-8895-10ed1cbebe2d",
   "metadata": {},
   "source": [
    "RefSeq: 87574\n",
    "\n",
    "GenBank: 141978"
   ]
  },
  {
   "cell_type": "markdown",
   "id": "c43a36cf-4611-4d6c-b634-28a1c6185184",
   "metadata": {},
   "source": [
    "\n",
    "\\\n",
    "Next, I want to combine the datasets by adding any genbank genomes that do *not* have an equivalent refseq entry to the refseq dataframe. The accession numbers are similar between refseq and genbank - the only difference being that refseq uses GCF and genbank uses GCA. The 9-digit numerical values in both accessions (excluding the ones after the period, which refer to version number) are shared between entries. \n",
    "\n",
    "For example, GCF_000001405.40 and GCA_000001405.29 both map to the same reference genome (*Homo sapiens* assembly GRCh38.p14: https://www.ncbi.nlm.nih.gov/datasets/genome/GCF_000001405.40/). \n",
    "\n",
    "\n",
    "\\\n",
    "**C) Create a single dataframe from the refseq and genbank data that contains one unique entry per genome (i.e., remove duplicate GCF/GCA entries). Prioritize refseq entries over genbank entries. Display the dataframe. (2 marks)** \n",
    "\n",
    "Hint: The `pd.concat([df1,df2])` function concatenates dataframes by rows: https://pandas.pydata.org/docs/reference/api/pandas.concat.html. "
   ]
  },
  {
   "cell_type": "code",
   "execution_count": 65,
   "id": "d4415e99-4f58-4082-b5ce-46d71b56f8ba",
   "metadata": {},
   "outputs": [
    {
     "name": "stdout",
     "output_type": "stream",
     "text": [
      "0\n",
      "        #assembly_accession   refseq_category  \\\n",
      "0           GCF_000001215.4  reference genome   \n",
      "303247      GCF_036323495.1  reference genome   \n",
      "148105      GCF_009729035.1  reference genome   \n",
      "148104      GCF_009729015.1  reference genome   \n",
      "148100      GCF_009728935.1  reference genome   \n",
      "...                     ...               ...   \n",
      "2301851     GCA_045176805.1                na   \n",
      "2301947     GCA_045178725.1                na   \n",
      "2307772     GCA_045291535.1                na   \n",
      "7154        GCA_000279615.1                na   \n",
      "2307767     GCA_045291475.1                na   \n",
      "\n",
      "                                             organism_name   assembly_level  \\\n",
      "0                                  Drosophila melanogaster       Chromosome   \n",
      "303247                             Limnobacter thiooxidans  Complete Genome   \n",
      "148105                                Stygiolobus azoricus  Complete Genome   \n",
      "148104                                Acidianus ambivalens  Complete Genome   \n",
      "148100                      Paenibacillus psychroresistens  Complete Genome   \n",
      "...                                                    ...              ...   \n",
      "2301851   Salmonella enterica subsp. enterica serovar Wien           Contig   \n",
      "2301947  Salmonella enterica subsp. enterica serovar An...           Contig   \n",
      "2307772                             Neorhizobium sp. EC2-8  Complete Genome   \n",
      "7154                       Streptococcus pneumoniae SPAR27           Contig   \n",
      "2307767                  Erythrobacteraceae bacterium 1C24       Chromosome   \n",
      "\n",
      "        genome_rep         group  genome_size  genome_size_ungapped  \\\n",
      "0             Full  invertebrate    143706478             142553500   \n",
      "303247        Full      bacteria      3536915               3536915   \n",
      "148105        Full       archaea      1987069               1987069   \n",
      "148104        Full       archaea      2252027               2252027   \n",
      "148100        Full      bacteria      8101785               8101785   \n",
      "...            ...           ...          ...                   ...   \n",
      "2301851       Full      bacteria      4671079               4671079   \n",
      "2301947       Full      bacteria      4774327               4774327   \n",
      "2307772       Full      bacteria      6773348               6773348   \n",
      "7154          Full      bacteria      2045574               2045574   \n",
      "2307767       Full      bacteria      2880971               2880871   \n",
      "\n",
      "         gc_percent  \n",
      "0              42.0  \n",
      "303247         53.0  \n",
      "148105         37.5  \n",
      "148104         34.0  \n",
      "148100         41.0  \n",
      "...             ...  \n",
      "2301851        52.0  \n",
      "2301947        52.0  \n",
      "2307772        61.5  \n",
      "7154           40.0  \n",
      "2307767        65.0  \n",
      "\n",
      "[145783 rows x 9 columns]\n"
     ]
    }
   ],
   "source": [
    "# extracts the 9 digit num after _ and before .\n",
    "def get_num(df):\n",
    "    nums = []\n",
    "    for accession in df['#assembly_accession']:\n",
    "        num = accession.split('_')[1]\n",
    "        num = num.split('.')[0]\n",
    "        nums.append(num)\n",
    "    df['num'] = nums\n",
    "\n",
    "get_num(df_gb)\n",
    "get_num(df_rs)\n",
    "\n",
    "rs_unique = df_rs.drop_duplicates(subset=['num'], keep='first')\n",
    "gb_unique = df_gb[~df_gb['num'].isin(df_rs['num'])]\n",
    "df_unique = pd.concat([rs_unique, gb_unique])\n",
    "df_unique = df_unique.drop(columns=['num'])\n",
    "\n",
    "print(df_unique.duplicated().sum())\n",
    "print(df_unique)"
   ]
  },
  {
   "cell_type": "markdown",
   "id": "7c218b26-953c-428b-8830-9be7e8390525",
   "metadata": {},
   "source": [
    "---"
   ]
  },
  {
   "cell_type": "markdown",
   "id": "43381145-a77f-40d2-9e61-8d4cc0858d63",
   "metadata": {},
   "source": [
    "## Part 2: Genome statistics \n",
    "\n",
    "**/16 marks**"
   ]
  },
  {
   "cell_type": "markdown",
   "id": "eb73345b-d33d-4db3-b01e-6df9f385d642",
   "metadata": {},
   "source": [
    "Let's investigate some relationships between qualitative and quantitative variables in our filtered dataframe. \\\n",
    "Note: plot formatting is not required unless explicitly stated."
   ]
  },
  {
   "cell_type": "markdown",
   "id": "9759530b-ebca-421d-9684-3b742ca352a7",
   "metadata": {},
   "source": [
    "### Task 3:\n",
    "\n",
    "The filtered genomes should all belong to domains archaea, bacteria, and eukarya. Currently, eukaryotes are not explicitly listed in the `['group']` column. \n"
   ]
  },
  {
   "cell_type": "markdown",
   "id": "1db0b34b-3f3d-4cc0-8abc-4f70efab71b6",
   "metadata": {},
   "source": [
    "**A) Create box plots comparing the % GC content of bacterial, archaeal, and eukaryotic genomes (3 categories total). (3 marks)**"
   ]
  },
  {
   "cell_type": "code",
   "execution_count": 66,
   "id": "7caf624c-039a-4b6c-a600-22a4445f6f6a",
   "metadata": {},
   "outputs": [
    {
     "name": "stderr",
     "output_type": "stream",
     "text": [
      "/var/folders/s8/28fc93l96dlf8b8vqnt1jtyr0000gn/T/ipykernel_70562/479690567.py:7: MatplotlibDeprecationWarning: The 'labels' parameter of boxplot() has been renamed 'tick_labels' since Matplotlib 3.9; support for the old name will be dropped in 3.11.\n",
      "  plt.boxplot([bacteria_gc, archaea_gc, eukaryote_gc], labels=['Bacteria', 'Archaea', 'Eukaryotes'])\n"
     ]
    },
    {
     "data": {
      "image/png": "[encoded data removed]",
      "text/plain": [
       "<Figure size 640x480 with 1 Axes>"
      ]
     },
     "metadata": {},
     "output_type": "display_data"
    }
   ],
   "source": [
    "# %pip install matplotlib\n",
    "import matplotlib.pyplot as plt\n",
    "\n",
    "bacteria_gc = df_unique[df_unique['group'] == 'bacteria']['gc_percent']\n",
    "archaea_gc = df_unique[df_unique['group'] == 'archaea']['gc_percent']\n",
    "eukaryote_gc = df_unique[df_unique['group'].isin(['plant', 'fungi', 'invertebrate', 'vertebrate_other', 'vertebrate_mammalian'])]['gc_percent']\n",
    "plt.boxplot([bacteria_gc, archaea_gc, eukaryote_gc], labels=['Bacteria', 'Archaea', 'Eukaryotes'])\n",
    "\n",
    "plt.title('GC Content Comparison')\n",
    "plt.xlabel('Organism Group')\n",
    "plt.ylabel('GC Content')\n",
    "\n",
    "plt.show()"
   ]
  },
  {
   "cell_type": "markdown",
   "id": "93554715-88a2-47c4-821d-d34702be652f",
   "metadata": {},
   "source": [
    "**B) Which group has the highest average GC content? (1 mark)**"
   ]
  },
  {
   "cell_type": "markdown",
   "id": "f5f738cf-a4f7-451b-b651-f17661e5f8d4",
   "metadata": {},
   "source": [
    "BACTERIA"
   ]
  },
  {
   "cell_type": "markdown",
   "id": "529a12aa-80ae-4c26-97a6-95d0a3a0ac90",
   "metadata": {},
   "source": [
    "**C) Perform a one-way ANOVA to test for significant differences in GC content across domains. (1 mark)** "
   ]
  },
  {
   "cell_type": "code",
   "execution_count": 67,
   "id": "fbd7e637-78f5-4f29-801a-557ae7a296fb",
   "metadata": {},
   "outputs": [
    {
     "name": "stdout",
     "output_type": "stream",
     "text": [
      "0.0\n"
     ]
    }
   ],
   "source": [
    "# %pip install scipy\n",
    "import scipy.stats as stats\n",
    "\n",
    "F = stats.f_oneway(bacteria_gc, archaea_gc, eukaryote_gc)\n",
    "print(F.pvalue)"
   ]
  },
  {
   "cell_type": "markdown",
   "id": "2921562c-d340-450d-b3ba-7ed5f0d06730",
   "metadata": {},
   "source": [
    "**E) Are the differences significant? (1 mark)**"
   ]
  },
  {
   "cell_type": "markdown",
   "id": "a5e33afe-119b-4921-b8b3-a4984b3087a7",
   "metadata": {},
   "source": [
    "Since p < 0.05, there is strong evidence to reject the null hypothesis that there is no significant differences in GC content across domains. So yes, the differences are significant."
   ]
  },
  {
   "cell_type": "markdown",
   "id": "b1d17843-a147-4b7b-8aa8-e77d9fa190ce",
   "metadata": {},
   "source": [
    "---"
   ]
  },
  {
   "cell_type": "markdown",
   "metadata": {},
   "source": [
    "### Task 4\n",
    "\n",
    "**A) Create a scatter plot with the** `['genome_size']` **and** `['genome_size_ungapped']` **columns as the x and y values, respectively. Include a line of best fit. (3 marks)**"
   ]
  },
  {
   "cell_type": "code",
   "execution_count": null,
   "id": "10d0ea99-3b73-46ba-84fe-7b47830beaaa",
   "metadata": {},
   "outputs": [
    {
     "data": {
      "image/png": "[encoded data removed]",
      "text/plain": [
       "<Figure size 640x480 with 1 Axes>"
      ]
     },
     "metadata": {},
     "output_type": "display_data"
    },
    {
     "name": "stdout",
     "output_type": "stream",
     "text": [
      "0.9966130248879755\n"
     ]
    }
   ],
   "source": [
    "reg = stats.linregress(df_unique['genome_size'], df_unique['genome_size_ungapped'])\n",
    "df = df_unique.copy()\n",
    "df['x_vals'] = df['genome_size']\n",
    "df['y_vals'] = reg.slope*df['genome_size'] + reg.intercept\n",
    "\n",
    "# references creating plot tutorial\n",
    "fig, ax = plt.subplots()\n",
    "df.plot(kind='scatter', x='genome_size', y='genome_size_ungapped', label='data', ax=ax)\n",
    "df.plot(kind='line', x='x_vals', y='y_vals', color='r', label='fitted line', ax=ax)\n",
    "plt.legend(bbox_to_anchor=(1.25, 1))\n",
    "plt.xlabel('Genome Size', fontsize=10)\n",
    "plt.ylabel('Ungapped Genome Size', fontsize=10)\n",
    "plt.show()\n",
    "\n",
    "# Part B\n",
    "R = stats.pearsonr(df_unique['genome_size'], df_unique['genome_size_ungapped'])\n",
    "print (R.correlation)"
   ]
  },
  {
   "cell_type": "markdown",
   "id": "2fc6d810-7ec1-4a01-bb18-c2a752ff6541",
   "metadata": {},
   "source": [
    "**B) What is the correlation coefficient (r) between genome size and ungapped genome size? (round to 3 decimals) (1 mark)**"
   ]
  },
  {
   "cell_type": "markdown",
   "id": "b4a02cf5-7ae2-40e1-be8e-cc25a34a2b26",
   "metadata": {},
   "source": [
    "0.997"
   ]
  },
  {
   "cell_type": "markdown",
   "id": "23ac5115-ef86-4df4-b5d0-a66512577672",
   "metadata": {},
   "source": [
    "---"
   ]
  },
  {
   "cell_type": "markdown",
   "id": "1a79fdf5-7370-4f02-9309-ed4e84428c96",
   "metadata": {},
   "source": [
    "### Task 5\n",
    "\n",
    "I want to compare the distribution of assembly levels (complete genome, chromosome, contig, etc) between types of genomes in the dataset. \n",
    "\n",
    "**A) Create a new dataframe that groups genomes by** `['group']` **, then by** `['assembly_level']` **, showing the genome counts. Then, pivot the dataframe to show the two categories as row and column headers respectively. Scale the values in each row as a percentage of the total row values. Display the dataframe. (3 marks)**"
   ]
  },
  {
   "cell_type": "code",
   "execution_count": 69,
   "id": "62d2d7bb-ebd0-4d4a-90b4-f77dc567cc21",
   "metadata": {},
   "outputs": [
    {
     "name": "stdout",
     "output_type": "stream",
     "text": [
      "assembly_level        Chromosome  Complete Genome     Contig   Scaffold\n",
      "group                                                                  \n",
      "archaea                 0.620943        16.511431  41.236240  41.631386\n",
      "bacteria                1.545572        12.594010  45.507405  40.353013\n",
      "fungi                   4.542382         2.947141  28.727863  63.782615\n",
      "invertebrate           42.974484         0.314575  23.977630  32.733310\n",
      "plant                  46.684657         1.734773  15.150347  36.430224\n",
      "protozoa               10.664172         1.683817  36.108513  51.543499\n",
      "vertebrate_mammalian   35.587583         0.221729   5.099778  59.090909\n",
      "vertebrate_other       22.437238         0.052301   4.628661  72.881799\n"
     ]
    }
   ],
   "source": [
    "df_group = df_unique.groupby(['group', 'assembly_level']).size()\n",
    "# print(df_group)\n",
    "\n",
    "df_group = df_group.reset_index()\n",
    "df_group.columns = ['group', 'assembly_level', 'genome_counts']\n",
    "df_group = df_group.pivot(index='group', columns='assembly_level', values='genome_counts')\n",
    "# print(df_group)\n",
    "\n",
    "# references excersise 4 in python tutorial\n",
    "def scale_percent(row):\n",
    "    return row/row.sum()*100\n",
    "df_group = df_group.apply(scale_percent, axis=1)\n",
    "print(df_group)\n"
   ]
  },
  {
   "cell_type": "markdown",
   "id": "481acff0-7ca9-4601-8c8d-a5616ff33b82",
   "metadata": {},
   "source": [
    "**B) Create a stacked bar plot using the above dataframe (3 marks). The plot must have the following:**\n",
    "- A title\n",
    "- X and Y axis labels\n",
    "- The legend outside of the plot area, with the labels matching the order of how they are displayed on the bars"
   ]
  },
  {
   "cell_type": "code",
   "execution_count": 70,
   "id": "b186320e-e13f-43b6-a9bc-e4353c91248b",
   "metadata": {},
   "outputs": [
    {
     "data": {
      "image/png": "[encoded data removed]",
      "text/plain": [
       "<Figure size 640x480 with 1 Axes>"
      ]
     },
     "metadata": {},
     "output_type": "display_data"
    }
   ],
   "source": [
    "bar = df_group.plot(kind='bar', stacked=True)\n",
    "plt.title('Genome Counts by Group and Assembly Level')\n",
    "plt.xlabel('Group')\n",
    "plt.ylabel('Genome Count')\n",
    "\n",
    "# references excersise 1b in python tutorial\n",
    "handles, labels = bar.get_legend_handles_labels() \n",
    "legend = bar.legend(\n",
    "    handles=reversed(handles),\n",
    "    labels=reversed(labels), \n",
    "    bbox_to_anchor=(1, 1), \n",
    "    title='Assembly Lv',\n",
    "    frameon=True\n",
    ")\n",
    "\n",
    "plt.show()"
   ]
  },
  {
   "cell_type": "markdown",
   "id": "d301df8d-7395-42a8-bd34-cccbb74619a2",
   "metadata": {},
   "source": [
    "---"
   ]
  },
  {
   "cell_type": "markdown",
   "id": "63de68e5-41a1-4a12-a627-d6086bef06a1",
   "metadata": {},
   "source": [
    "## Part 3: Labelling phylogenomic trees \n",
    "\n",
    "**/7 marks**"
   ]
  },
  {
   "cell_type": "markdown",
   "id": "efbe6a5e-9b4d-4df2-8225-b15c39e8b593",
   "metadata": {},
   "source": [
    "Python does have several libraries for parsing FASTA files, aligning sequences, creating/visualizing trees, etc. One major one is Biopython (https://biopython.org/docs/latest/index.html). However, for this assignment I have made the tree using other command line tools.\n",
    "\n",
    "A brief explanation of the steps I used, for your interest only:\n",
    "\n",
    "- Filtered the genome dataset to only refseq genomes under `vertebrate_mammalian` (from experience, rendering a 100k+ node tree will crash the online visualizer...)\n",
    "- Exported the accession numbers as a text file (`genome_accessions.txt`)\n",
    "- Ran the program `GToTree` (https://github.com/AstrobioMike/GToTree), with the following code:\n",
    "\n",
    "```bash\n",
    "GToTree -a genome_accessions.txt -H Universal -j 20 -o ToL -G 0 -B\n",
    "```\n",
    "\n",
    "GToTree is a convenient pipeline that combines several other command line bioinformatics software. It uses HMMs (`HMMER`) to find a set of shared marker genes within input genomes (which can be FASTA files uploaded by the user or NCBI accessions that it will download). Then, it aligns them (`MUSCLE`), concatenates the alignments, and finally uses `FastTree`/`IQ-Tree` to create a *phylogenomic* tree of the genomes. The command `-H Universal` in the run code specifies to use the universal 16 marker gene set (Hug et al. 2016), which is a set of ribosomal genes shared between all three domains (bacteria, archaea, eukaryotes). In theory, these could be used for any tree, though it may not be ideal for resolving evolutionary relationships for closely related clades...\n",
    "\n",
    "\n",
    "---"
   ]
  },
  {
   "cell_type": "markdown",
   "id": "e19dd208-ef49-4edb-9d29-26b2e117357e",
   "metadata": {},
   "source": [
    "### Task 6\n",
    "\n",
    "\n",
    "The output tree file (`mammal_tree.nwk`) is provided. To visualize it, go to the online Interactive Tree of Life tool (https://itol.embl.de/upload.cgi), select the tree file under Choose File, and click Upload. \n",
    "\n",
    "As you can see, it automatically renders a circular tree and labels it with the accession numbers. We would like to replace the labels with something more informative, such as the species name. \n",
    "\n",
    "Run the following code to generate a list of tree nodes (as a dataframe):"
   ]
  },
  {
   "cell_type": "code",
   "execution_count": 108,
   "id": "d55c8fc4-d6cc-4dad-b801-01d8b654bc4c",
   "metadata": {},
   "outputs": [
    {
     "name": "stdout",
     "output_type": "stream",
     "text": [
      "Requirement already satisfied: Biopython in ./.venv/lib/python3.9/site-packages (1.85)\n",
      "Requirement already satisfied: numpy in ./.venv/lib/python3.9/site-packages (from Biopython) (2.0.2)\n",
      "Note: you may need to restart the kernel to use updated packages.\n"
     ]
    },
    {
     "data": {
      "text/html": [
       "<div>\n",
       "<style scoped>\n",
       "    .dataframe tbody tr th:only-of-type {\n",
       "        vertical-align: middle;\n",
       "    }\n",
       "\n",
       "    .dataframe tbody tr th {\n",
       "        vertical-align: top;\n",
       "    }\n",
       "\n",
       "    .dataframe thead th {\n",
       "        text-align: right;\n",
       "    }\n",
       "</style>\n",
       "<table border=\"1\" class=\"dataframe\">\n",
       "  <thead>\n",
       "    <tr style=\"text-align: right;\">\n",
       "      <th></th>\n",
       "    </tr>\n",
       "    <tr>\n",
       "      <th>#assembly_accession</th>\n",
       "    </tr>\n",
       "  </thead>\n",
       "  <tbody>\n",
       "    <tr>\n",
       "      <th>GCF_023721935.1</th>\n",
       "    </tr>\n",
       "    <tr>\n",
       "      <th>GCF_018350215.1</th>\n",
       "    </tr>\n",
       "    <tr>\n",
       "      <th>GCF_024362965.1</th>\n",
       "    </tr>\n",
       "    <tr>\n",
       "      <th>GCF_028018385.1</th>\n",
       "    </tr>\n",
       "    <tr>\n",
       "      <th>GCF_007474595.2</th>\n",
       "    </tr>\n",
       "    <tr>\n",
       "      <th>...</th>\n",
       "    </tr>\n",
       "    <tr>\n",
       "      <th>GCF_027475565.1</th>\n",
       "    </tr>\n",
       "    <tr>\n",
       "      <th>GCF_016509475.1</th>\n",
       "    </tr>\n",
       "    <tr>\n",
       "      <th>GCF_003327715.1</th>\n",
       "    </tr>\n",
       "    <tr>\n",
       "      <th>GCF_018350195.1</th>\n",
       "    </tr>\n",
       "    <tr>\n",
       "      <th>GCF_028533385.1</th>\n",
       "    </tr>\n",
       "  </tbody>\n",
       "</table>\n",
       "<p>231 rows × 0 columns</p>\n",
       "</div>"
      ],
      "text/plain": [
       "Empty DataFrame\n",
       "Columns: []\n",
       "Index: [GCF_023721935.1, GCF_018350215.1, GCF_024362965.1, GCF_028018385.1, GCF_007474595.2, GCF_022079265.1, GCF_018350155.1, GCF_022837055.1, GCF_000260355.1, GCF_014898055.3, GCF_024139225.1, GCF_027595985.1, GCF_029834395.1, GCF_030445035.1, GCF_015220235.1, GCF_000299155.1, GCF_000243295.1, GCF_030014295.1, GCF_024166365.1, GCF_000298275.1, GCF_000313985.2, GCF_017591425.1, GCF_030435755.1, GCF_033115175.1, GCF_964237555.1, GCF_004115215.2, GCF_015852505.1, GCF_016433145.1, GCF_027887165.1, GCF_019393635.1, GCF_016432865.1, GCF_902635505.1, GCF_011100635.1, GCF_028583685.1, GCF_002099425.1, GCF_900497805.2, GCF_014824575.3, GCF_000164805.1, GCF_011100555.1, GCF_016699345.2, GCF_009761245.1, GCF_001604975.1, GCF_030222135.1, GCF_015252025.1, GCF_003255815.1, GCF_008728515.1, GCF_024542745.1, GCF_037993035.1, GCF_003339765.1, GCF_000956065.1, GCF_006542625.1, GCF_028878055.3, GCF_009828535.3, GCF_028885625.2, GCF_028885655.2, GCF_000001405.40, GCF_029281585.2, GCF_028858775.2, GCF_029289425.2, GCF_001698545.2, GCF_007565055.1, GCF_009764315.1, GCF_002776525.5, GCF_000951035.1, GCF_000951045.1, GCF_000955945.1, GCF_000334495.1, GCF_027409185.1, GCF_000696425.1, GCF_020740685.1, GCF_000622305.1, GCF_903992535.2, GCF_014885135.2, GCF_000317375.1, GCF_018167655.1, GCF_950005125.1, GCF_902806735.1, GCF_943737965.1, GCF_003668045.3, GCF_017639785.1, GCF_903995425.1, GCF_003704035.1, GCF_004664715.2, GCF_007827085.1, GCF_949786415.1, GCF_903995435.1, GCF_011064425.1, GCF_036323735.1, GCF_004785775.1, GCF_011762505.1, GCF_947179515.1, GCF_008632895.1, GCF_000001635.27, GCF_900095145.1, GCF_030254825.1, GCF_907164565.1, GCF_000151885.1, GCF_019054845.1, GCF_024711535.1, GCF_023159225.1, ...]\n",
       "\n",
       "[231 rows x 0 columns]"
      ]
     },
     "execution_count": 108,
     "metadata": {},
     "output_type": "execute_result"
    }
   ],
   "source": [
    "#you only need to do this once, you can comment this line out after\n",
    "%pip install Biopython \n",
    "\n",
    "from Bio import Phylo\n",
    "tree = Phylo.read('mammal_tree.nwk', \"newick\")\n",
    "\n",
    "#extracting nodes as a dataframe column\n",
    "tree_nodes = pd.DataFrame([node.name for node in tree.get_terminals()], columns=['#assembly_accession'])\n",
    "tree_nodes = tree_nodes.set_index('#assembly_accession') #setting column as index\n",
    "\n",
    "tree_nodes #take a look at the df"
   ]
  },
  {
   "cell_type": "markdown",
   "id": "06c5e9c2-6401-445a-a4a6-5b6708c27b02",
   "metadata": {},
   "source": [
    "**A) Create another column in the** `tree_nodes` **dataframe that maps the associated species name** (`['organism_name']`) **to the accession. Display the dataframe. (2 marks)** \\\n",
    "Hint: use `df.set_index()` to set a column as an index. The resulting dataframe should only have 1 column (not including the index)."
   ]
  },
  {
   "cell_type": "code",
   "execution_count": 109,
   "id": "37d84d74-cc41-45c9-aafa-a0b7c41e39d5",
   "metadata": {},
   "outputs": [
    {
     "name": "stdout",
     "output_type": "stream",
     "text": [
      "#assembly_accession\n",
      "GCF_000001215.4                              Drosophila melanogaster\n",
      "GCF_036323495.1                              Limnobacter thiooxidans\n",
      "GCF_009729035.1                                 Stygiolobus azoricus\n",
      "GCF_009729015.1                                 Acidianus ambivalens\n",
      "GCF_009728935.1                       Paenibacillus psychroresistens\n",
      "                                         ...                        \n",
      "GCA_045176805.1     Salmonella enterica subsp. enterica serovar Wien\n",
      "GCA_045178725.1    Salmonella enterica subsp. enterica serovar An...\n",
      "GCA_045291535.1                               Neorhizobium sp. EC2-8\n",
      "GCA_000279615.1                      Streptococcus pneumoniae SPAR27\n",
      "GCA_045291475.1                    Erythrobacteraceae bacterium 1C24\n",
      "Name: organism_name, Length: 145783, dtype: object\n",
      "                                organism_name\n",
      "#assembly_accession                          \n",
      "GCF_023721935.1                Panthera uncia\n",
      "GCF_018350215.1                  Panthera leo\n",
      "GCF_024362965.1               Panthera pardus\n",
      "GCF_028018385.1             Neofelis nebulosa\n",
      "GCF_007474595.2               Lynx canadensis\n",
      "...                                       ...\n",
      "GCF_027475565.1              Acinonyx jubatus\n",
      "GCF_016509475.1      Prionailurus bengalensis\n",
      "GCF_003327715.1                 Puma concolor\n",
      "GCF_018350195.1               Panthera tigris\n",
      "GCF_028533385.1                 Panthera onca\n",
      "\n",
      "[231 rows x 1 columns]\n"
     ]
    }
   ],
   "source": [
    "ind = df_unique.set_index('#assembly_accession')['organism_name']\n",
    "print(ind)\n",
    "\n",
    "# ref: https://stackoverflow.com/questions/43356704/map-dataframe-index-using-dictionary\n",
    "tree_nodes['organism_name'] = tree_nodes.index.map(ind)\n",
    "print(tree_nodes)"
   ]
  },
  {
   "cell_type": "markdown",
   "id": "bb1dddbe-8012-42ae-89e9-7c8f457deaa8",
   "metadata": {},
   "source": [
    "**B) Export the dataframe as a .csv file. Include the** `header=False` **parameter to ignore the column names.** "
   ]
  },
  {
   "cell_type": "code",
   "execution_count": 110,
   "id": "939f111a-5a1c-42f6-802b-b875b5b196bf",
   "metadata": {},
   "outputs": [],
   "source": [
    "tree_nodes.to_csv('tree_nodes.csv', header=False)"
   ]
  },
  {
   "cell_type": "markdown",
   "id": "d7f8bf65-e41e-41ec-8490-3acc3cc16611",
   "metadata": {},
   "source": [
    "Open the .csv file in a text editor, and append the following 3 lines before the data:\n",
    "\n",
    "LABELS\n",
    "\n",
    "SEPARATOR COMMA\n",
    "\n",
    "DATA\n",
    "\n",
    "Save the file, and click + drag it into the iToL viewer with your tree. The labels should now be updated with species names. \n",
    "\n",
    "---"
   ]
  },
  {
   "cell_type": "markdown",
   "id": "c8f92a3b-214f-42fa-b914-6051213a34c4",
   "metadata": {},
   "source": [
    "### Task 7\n",
    "\n",
    "In addition to text labels, color-coding the branches of our tree can help visualize phylogenetic relationships between groups. \n",
    "\n",
    "The `taxonomy_key.csv` file contains detailed lineage information about each genome. It was also retrieved from the NCBI FTP site under `/pub/taxonomy/`, but I have reformatted it to make it easier to work with. \n",
    "\n",
    "**A) Using this file, create and display a dataframe that maps each tree node (by accession) to a color hex code based on the value in the** `['Order']` **column: (2 marks)**\n",
    "\n",
    "Carnivora: Red (`'#ff0000'`) \\\n",
    "Artiodactyla: Blue (`'#0000ff'`) \\\n",
    "Rodentia: Green (`'#00ff00'`) \\\n",
    "Primates: Orange (`'#ff6600'`) \\\n",
    "Chiroptera: Purple (`'#800080'`) \\\n",
    "Monotremata: Yellow (`'#ffff00'`)\\\n",
    "Other branches can remain black (`'#ffffff'`). \n",
    "\n",
    "The resulting dataframe (or series) should only have 1 column (not including the index)."
   ]
  },
  {
   "cell_type": "code",
   "execution_count": 113,
   "id": "3c41e481-fdcf-4c98-8723-f7bcaa0e853a",
   "metadata": {},
   "outputs": [
    {
     "name": "stdout",
     "output_type": "stream",
     "text": [
      "                       color\n",
      "#assembly_accession         \n",
      "GCA_016840465.1      #ffffff\n",
      "GCA_029856505.1      #ffffff\n",
      "GCA_019057385.1      #ffffff\n",
      "GCA_016840515.1      #ffffff\n",
      "GCF_019058535.1      #ffffff\n",
      "...                      ...\n",
      "GCA_037447605.1      #ffffff\n",
      "GCA_037447655.1      #ffffff\n",
      "GCA_029300435.1      #ffffff\n",
      "GCA_029299945.1      #ffffff\n",
      "GCA_935751465.1      #ffffff\n",
      "\n",
      "[126388 rows x 1 columns]\n"
     ]
    }
   ],
   "source": [
    "df_tax = pd.read_csv('taxonomy_key.csv')\n",
    "\n",
    "mapping = {\n",
    "    'Carnivora': '#ff0000',\n",
    "    'Artiodactyla': '#0000ff',\n",
    "    'Rodentia': '#00ff00',\n",
    "    'Primates': '#ff6600',\n",
    "    'Chiroptera': '#800080',\n",
    "    'Monotremata': '#ffff00',\n",
    "}\n",
    "\n",
    "df_tax['color'] = df_tax['Order'].map(mapping)\n",
    "df_tax['color'] = df_tax['color'].fillna('#ffffff') #black for other branches\n",
    "\n",
    "# filtering df  to one column and making accession the index\n",
    "df_tax = df_tax[['#assembly_accession', 'color']]\n",
    "df_tax.set_index('#assembly_accession', inplace=True)\n",
    "print(df_tax)\n"
   ]
  },
  {
   "cell_type": "markdown",
   "id": "9ae9af7f-9366-4f64-b6c6-f688a329676a",
   "metadata": {},
   "source": [
    "**B) Export the file the same way as in Task 6.**"
   ]
  },
  {
   "cell_type": "code",
   "execution_count": 114,
   "id": "2740962d-a483-4924-a2e4-3a23a5d59376",
   "metadata": {},
   "outputs": [],
   "source": [
    "df_tax.to_csv('tax.csv', header=False)"
   ]
  },
  {
   "cell_type": "markdown",
   "id": "8939bc59-fe09-4a6c-99bd-d3bd98bd47b1",
   "metadata": {},
   "source": [
    "Open the .csv file in a text editor, and append the following 5 lines before the data:\n",
    "\n",
    "DATASET_COLORSTRIP\n",
    "\n",
    "SEPARATOR COMMA\t\n",
    "\n",
    "DATASET_LABEL,Order\n",
    "\n",
    "COLOR_BRANCHES,1\n",
    "\n",
    "DATA\n",
    "\n",
    "\n",
    "Save the file, and click + drag it into the iToL viewer with your tree. The branches should now be color-coded by taxonomy."
   ]
  },
  {
   "cell_type": "markdown",
   "id": "ccab19e0-4e27-41b6-ad4c-969d7efc79e8",
   "metadata": {},
   "source": [
    "**C) Based on what you see, are there any genomes that appear to be either taxonomically misclassified OR incorrectly placed on the tree? List their scientific names below: (1 mark)**"
   ]
  },
  {
   "cell_type": "markdown",
   "id": "9b65c054-5b3b-4713-b1e9-6f7ac4a79dd3",
   "metadata": {},
   "source": [
    "Tree won't load :("
   ]
  },
  {
   "cell_type": "markdown",
   "id": "6ff35396-7fcd-4e4c-8567-82c34b1ff17c",
   "metadata": {},
   "source": [
    "---"
   ]
  },
  {
   "cell_type": "markdown",
   "id": "53a1ffd1-008f-421b-bc6a-d9771dfaf25e",
   "metadata": {},
   "source": [
    "### Task 8\n",
    "\n",
    "Find the Monotremes, and re-root the tree on one of them by hovering over a branch and right clicking --> Tree structure --> Re-root the tree here. On the Control panel in the top right, navigate to the Basic tab and increase the Label Font Size and Branch Line Width to something readable. Then, go to the Export tab and export the Full Image as a PDF. \n",
    "\n",
    "**Submit the PDF tree file (2 marks) along with the assignment notebook to the dropbox for marking.**"
   ]
  },
  {
   "cell_type": "markdown",
   "id": "06b5ffb7-9635-440b-8ae5-0e4e6f2d04ce",
   "metadata": {},
   "source": [
    "---"
   ]
  },
  {
   "cell_type": "markdown",
   "id": "fa18fa3c-9d6c-4b91-a653-c43b329dae96",
   "metadata": {},
   "source": [
    "**END OF ASSIGNMENT**"
   ]
  }
 ],
 "metadata": {
  "kernelspec": {
   "display_name": ".venv",
   "language": "python",
   "name": "python3"
  },
  "language_info": {
   "codemirror_mode": {
    "name": "ipython",
    "version": 3
   },
   "file_extension": ".py",
   "mimetype": "text/x-python",
   "name": "python",
   "nbconvert_exporter": "python",
   "pygments_lexer": "ipython3",
   "version": "3.9.6"
  }
 },
 "nbformat": 4,
 "nbformat_minor": 5
}
